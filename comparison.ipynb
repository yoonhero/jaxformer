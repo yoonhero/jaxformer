{
 "cells": [
  {
   "cell_type": "code",
   "execution_count": 64,
   "metadata": {},
   "outputs": [],
   "source": [
    "import time\n",
    "import jax.numpy as jnp\n",
    "import numpy as np\n",
    "import torch\n",
    "from jax import jit"
   ]
  },
  {
   "cell_type": "code",
   "execution_count": 2,
   "metadata": {},
   "outputs": [],
   "source": [
    "## Enormous Attention Calc Comparison"
   ]
  },
  {
   "cell_type": "code",
   "execution_count": 61,
   "metadata": {},
   "outputs": [],
   "source": [
    "def test(func, **kwrgs):\n",
    "    cons = []\n",
    "    for _ in range(100):\n",
    "        start = time.time()\n",
    "        func(**kwrgs)\n",
    "        end = time.time()\n",
    "        cons.append(end-start)\n",
    "\n",
    "    return sum(cons ) / len(cons)"
   ]
  },
  {
   "cell_type": "code",
   "execution_count": 62,
   "metadata": {},
   "outputs": [
    {
     "data": {
      "text/plain": [
       "0.06883242607116699"
      ]
     },
     "execution_count": 62,
     "metadata": {},
     "output_type": "execute_result"
    }
   ],
   "source": [
    "k = np.random.randn(256, 8000)\n",
    "v = np.random.randn(256, 8000)\n",
    "q = np.random.randn(256, 8000)\n",
    "\n",
    "def softmax(x:np.array):\n",
    "    x = x-x.max(axis=-1, keepdims=True)\n",
    "    exp_x = np.exp(x)\n",
    "    return exp_x/np.sum(exp_x, axis=-1, keepdims=True)\n",
    "\n",
    "def np_attention(k, q, v):\n",
    "    softmax(np.matmul(k,v.T)/np.sqrt(q.shape[-1])) @ v\n",
    "\n",
    "test(np_attention, k=k, q=q, v=v)"
   ]
  },
  {
   "cell_type": "code",
   "execution_count": 63,
   "metadata": {},
   "outputs": [
    {
     "data": {
      "text/plain": [
       "0.07076051712036133"
      ]
     },
     "execution_count": 63,
     "metadata": {},
     "output_type": "execute_result"
    }
   ],
   "source": [
    "torch_k = torch.from_numpy(k)\n",
    "torch_v = torch.from_numpy(v)\n",
    "torch_q = torch.from_numpy(q)\n",
    "\n",
    "def attention(k, v, q):\n",
    "    with torch.no_grad():\n",
    "        return torch.softmax(torch_k@torch_v.T/np.sqrt(q.shape[-1]), dim=-1) @ v\n",
    "\n",
    "test(attention, k=torch_k, v=torch_v, q=torch_q)"
   ]
  },
  {
   "cell_type": "code",
   "execution_count": 78,
   "metadata": {},
   "outputs": [
    {
     "name": "stdout",
     "output_type": "stream",
     "text": [
      "Unexpected exception formatting exception. Falling back to standard exception\n"
     ]
    },
    {
     "name": "stderr",
     "output_type": "stream",
     "text": [
      "Traceback (most recent call last):\n",
      "  File \"/Users/yoonseonghyeon/opt/anaconda3/envs/mlenv/lib/python3.10/site-packages/IPython/core/interactiveshell.py\", line 3398, in run_code\n",
      "    exec(code_obj, self.user_global_ns, self.user_ns)\n",
      "  File \"/var/folders/pk/4stgl7rx1rd40xnz4plktxy00000gn/T/ipykernel_54275/1058087367.py\", line 3, in <cell line: 3>\n",
      "    key = random.PRNGKey(0)\n",
      "  File \"/Users/yoonseonghyeon/opt/anaconda3/envs/mlenv/lib/python3.10/site-packages/jax/_src/random.py\", line 136, in PRNGKey\n",
      "    raise TypeError(\n",
      "  File \"/Users/yoonseonghyeon/opt/anaconda3/envs/mlenv/lib/python3.10/site-packages/jax/_src/prng.py\", line 269, in seed_with_impl\n",
      "  File \"/Users/yoonseonghyeon/opt/anaconda3/envs/mlenv/lib/python3.10/site-packages/jax/_src/prng.py\", line 578, in random_seed\n",
      "  File \"/Users/yoonseonghyeon/opt/anaconda3/envs/mlenv/lib/python3.10/site-packages/jax/_src/numpy/lax_numpy.py\", line 2070, in asarray\n",
      "    out_array: Array = lax_internal._convert_element_type(out, dtype, weak_type=weak_type)\n",
      "  File \"/Users/yoonseonghyeon/opt/anaconda3/envs/mlenv/lib/python3.10/site-packages/jax/_src/numpy/lax_numpy.py\", line 2051, in array\n",
      "    out = np.array(object, dtype=dtype, ndmin=ndmin, copy=False)  # type: ignore[arg-type]\n",
      "  File \"/Users/yoonseonghyeon/opt/anaconda3/envs/mlenv/lib/python3.10/site-packages/jax/_src/lax/lax.py\", line 592, in _convert_element_type\n",
      "    \\end{cases}`.\n",
      "  File \"/Users/yoonseonghyeon/opt/anaconda3/envs/mlenv/lib/python3.10/site-packages/jax/_src/core.py\", line 360, in bind\n",
      "    return f'{self.val}'\n",
      "  File \"/Users/yoonseonghyeon/opt/anaconda3/envs/mlenv/lib/python3.10/site-packages/jax/_src/core.py\", line 363, in bind_with_trace\n",
      "  File \"/Users/yoonseonghyeon/opt/anaconda3/envs/mlenv/lib/python3.10/site-packages/jax/_src/core.py\", line 807, in process_primitive\n",
      "    f\"{self._origin_msg()}\")\n",
      "  File \"/Users/yoonseonghyeon/opt/anaconda3/envs/mlenv/lib/python3.10/site-packages/jax/_src/dispatch.py\", line 122, in apply_primitive\n",
      "    for s, o in zip(self.shardings, other.shardings))\n",
      "  File \"/Users/yoonseonghyeon/opt/anaconda3/envs/mlenv/lib/python3.10/site-packages/jax/_src/util.py\", line 254, in wrapper\n",
      "    @functools.lru_cache(max_size)\n",
      "  File \"/Users/yoonseonghyeon/opt/anaconda3/envs/mlenv/lib/python3.10/site-packages/jax/_src/util.py\", line 247, in cached\n",
      "    assert not new_lhs\n",
      "  File \"/Users/yoonseonghyeon/opt/anaconda3/envs/mlenv/lib/python3.10/site-packages/jax/_src/dispatch.py\", line 201, in xla_primitive_callable\n",
      "    for token in self.output_tokens.values():\n",
      "  File \"/Users/yoonseonghyeon/opt/anaconda3/envs/mlenv/lib/python3.10/site-packages/jax/_src/dispatch.py\", line 353, in _xla_callable_uncached\n",
      "    return (any(type(v.aval.dtype) is core.bint for v in jaxpr.invars\n",
      "  File \"/Users/yoonseonghyeon/opt/anaconda3/envs/mlenv/lib/python3.10/site-packages/jax/_src/dispatch.py\", line 343, in sharded_lowering\n",
      "    def _names_to_pspec(names):\n",
      "  File \"/Users/yoonseonghyeon/opt/anaconda3/envs/mlenv/lib/python3.10/site-packages/jax/_src/profiler.py\", line 314, in wrapper\n",
      "    return func(*args, **kwargs)\n",
      "  File \"/Users/yoonseonghyeon/opt/anaconda3/envs/mlenv/lib/python3.10/site-packages/jax/_src/interpreters/pxla.py\", line 2947, in lower_sharding_computation\n",
      "    f\"inside xmaps not supported!\")\n",
      "  File \"/Users/yoonseonghyeon/opt/anaconda3/envs/mlenv/lib/python3.10/site-packages/jax/_src/dispatch.py\", line 570, in jaxpr_shardings\n",
      "    raise\n",
      "  File \"/Users/yoonseonghyeon/opt/anaconda3/envs/mlenv/lib/python3.10/site-packages/jax/experimental/shard_map.py\", line 50, in <module>\n",
      "    from jax._src.util import (HashableFunction, HashablePartial, unzip2, unzip3,\n",
      "ImportError: cannot import name 'HashablePartial' from 'jax._src.util' (/Users/yoonseonghyeon/opt/anaconda3/envs/mlenv/lib/python3.10/site-packages/jax/_src/util.py)\n",
      "\n",
      "During handling of the above exception, another exception occurred:\n",
      "\n",
      "Traceback (most recent call last):\n",
      "  File \"/Users/yoonseonghyeon/opt/anaconda3/envs/mlenv/lib/python3.10/site-packages/IPython/core/interactiveshell.py\", line 1993, in showtraceback\n",
      "    stb = self.InteractiveTB.structured_traceback(\n",
      "  File \"/Users/yoonseonghyeon/opt/anaconda3/envs/mlenv/lib/python3.10/site-packages/IPython/core/ultratb.py\", line 1118, in structured_traceback\n",
      "    return FormattedTB.structured_traceback(\n",
      "  File \"/Users/yoonseonghyeon/opt/anaconda3/envs/mlenv/lib/python3.10/site-packages/IPython/core/ultratb.py\", line 1012, in structured_traceback\n",
      "    return VerboseTB.structured_traceback(\n",
      "  File \"/Users/yoonseonghyeon/opt/anaconda3/envs/mlenv/lib/python3.10/site-packages/IPython/core/ultratb.py\", line 865, in structured_traceback\n",
      "    formatted_exception = self.format_exception_as_a_whole(etype, evalue, etb, number_of_lines_of_context,\n",
      "  File \"/Users/yoonseonghyeon/opt/anaconda3/envs/mlenv/lib/python3.10/site-packages/IPython/core/ultratb.py\", line 818, in format_exception_as_a_whole\n",
      "    frames.append(self.format_record(r))\n",
      "  File \"/Users/yoonseonghyeon/opt/anaconda3/envs/mlenv/lib/python3.10/site-packages/IPython/core/ultratb.py\", line 736, in format_record\n",
      "    result += ''.join(_format_traceback_lines(frame_info.lines, Colors, self.has_colors, lvals))\n",
      "  File \"/Users/yoonseonghyeon/opt/anaconda3/envs/mlenv/lib/python3.10/site-packages/stack_data/utils.py\", line 145, in cached_property_wrapper\n",
      "    value = obj.__dict__[self.func.__name__] = self.func(obj)\n",
      "  File \"/Users/yoonseonghyeon/opt/anaconda3/envs/mlenv/lib/python3.10/site-packages/stack_data/core.py\", line 698, in lines\n",
      "    pieces = self.included_pieces\n",
      "  File \"/Users/yoonseonghyeon/opt/anaconda3/envs/mlenv/lib/python3.10/site-packages/stack_data/utils.py\", line 145, in cached_property_wrapper\n",
      "    value = obj.__dict__[self.func.__name__] = self.func(obj)\n",
      "  File \"/Users/yoonseonghyeon/opt/anaconda3/envs/mlenv/lib/python3.10/site-packages/stack_data/core.py\", line 649, in included_pieces\n",
      "    pos = scope_pieces.index(self.executing_piece)\n",
      "  File \"/Users/yoonseonghyeon/opt/anaconda3/envs/mlenv/lib/python3.10/site-packages/stack_data/utils.py\", line 145, in cached_property_wrapper\n",
      "    value = obj.__dict__[self.func.__name__] = self.func(obj)\n",
      "  File \"/Users/yoonseonghyeon/opt/anaconda3/envs/mlenv/lib/python3.10/site-packages/stack_data/core.py\", line 628, in executing_piece\n",
      "    return only(\n",
      "  File \"/Users/yoonseonghyeon/opt/anaconda3/envs/mlenv/lib/python3.10/site-packages/executing/executing.py\", line 164, in only\n",
      "    raise NotOneValueFound('Expected one value, found 0')\n",
      "executing.executing.NotOneValueFound: Expected one value, found 0\n"
     ]
    }
   ],
   "source": [
    "from jax import random\n",
    "\n",
    "key = random.PRNGKey()\n",
    "\n",
    "k = random.uniform(key, [256, 8000])\n",
    "v = random.uniform(key, [256, 8000])\n",
    "q = random.uniform(key, [256, 8000])\n",
    "\n",
    "@jit\n",
    "def softmax(x:jnp.array):\n",
    "    x = x-x.max(axis=-1, keepdims=True)\n",
    "    exp_x = jnp.exp(x)\n",
    "    return exp_x/jnp.sum(exp_x, axis=-1, keepdims=True)\n",
    "\n",
    "@jit\n",
    "def np_attention(k, q, v):\n",
    "    kq = jnp.dot(q,k.T)\n",
    "    return jnp.dot(softmax(kq), v.T)\n",
    "\n",
    "test(np_attention, k=k, q=q, v=v)"
   ]
  },
  {
   "cell_type": "code",
   "execution_count": null,
   "metadata": {},
   "outputs": [],
   "source": []
  }
 ],
 "metadata": {
  "kernelspec": {
   "display_name": "mlenv",
   "language": "python",
   "name": "python3"
  },
  "language_info": {
   "codemirror_mode": {
    "name": "ipython",
    "version": 3
   },
   "file_extension": ".py",
   "mimetype": "text/x-python",
   "name": "python",
   "nbconvert_exporter": "python",
   "pygments_lexer": "ipython3",
   "version": "3.10.4"
  },
  "orig_nbformat": 4,
  "vscode": {
   "interpreter": {
    "hash": "9d2639ffb07810fac2cedc92e08a41c0bae42ca785c48ccdb21dd6b5e60bd2fc"
   }
  }
 },
 "nbformat": 4,
 "nbformat_minor": 2
}
